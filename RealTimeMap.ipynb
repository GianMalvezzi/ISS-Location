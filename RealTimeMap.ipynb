{
 "cells": [
  {
   "cell_type": "code",
   "execution_count": 1,
   "metadata": {},
   "outputs": [],
   "source": [
    "import json\n",
    "import turtle\n",
    "import time\n",
    "import webbrowser"
   ]
  },
  {
   "cell_type": "code",
   "execution_count": 2,
   "metadata": {},
   "outputs": [
    {
     "data": {
      "text/plain": [
       "''"
      ]
     },
     "execution_count": 2,
     "metadata": {},
     "output_type": "execute_result"
    }
   ],
   "source": [
    "screen = turtle.Screen()\n",
    "screen.setup(1280, 720)\n",
    "screen.setworldcoordinates(-180,-0,180,90)\n",
    "screen.bgpic('Atlas.gif')\n",
    "screen.register_shape('Icon.gif')\n",
    "iss = turtle.Turtle()\n",
    "iss.shape('Icon.gif')\n",
    "iss.setheading(45)\n",
    "iss.penup()\n",
    "\n",
    "input('stop')"
   ]
  },
  {
   "cell_type": "code",
   "execution_count": null,
   "metadata": {},
   "outputs": [],
   "source": [
    "while True:\n",
    "    url = \"http://api.open-notify.org/iss-now.json\"\n",
    "    response = requests.get(url)\n",
    "\n",
    "    location = result['iss_position']\n",
    "    lat = location['latitude']\n",
    "    lon = location['longitude']\n",
    "\n",
    "    lat = float(lat)\n",
    "    lon = float(lon)\n",
    "    iss.goto(lon,lat)\n",
    "\n",
    "    time(5)\n"
   ]
  }
 ],
 "metadata": {
  "interpreter": {
   "hash": "31f2aee4e71d21fbe5cf8b01ff0e069b9275f58929596ceb00d14d90e3e16cd6"
  },
  "kernelspec": {
   "display_name": "Python 3.9.7 64-bit",
   "language": "python",
   "name": "python3"
  },
  "language_info": {
   "codemirror_mode": {
    "name": "ipython",
    "version": 3
   },
   "file_extension": ".py",
   "mimetype": "text/x-python",
   "name": "python",
   "nbconvert_exporter": "python",
   "pygments_lexer": "ipython3",
   "version": "3.9.7"
  },
  "orig_nbformat": 4
 },
 "nbformat": 4,
 "nbformat_minor": 2
}
